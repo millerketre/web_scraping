{
 "cells": [
  {
   "cell_type": "code",
   "execution_count": 1,
   "metadata": {},
   "outputs": [
    {
     "name": "stderr",
     "output_type": "stream",
     "text": [
      "C:\\Users\\AK04726P\\AppData\\Local\\Temp\\ipykernel_5916\\2204885861.py:47: FutureWarning: The behavior of DataFrame concatenation with empty or all-NA entries is deprecated. In a future version, this will no longer exclude empty or all-NA columns when determining the result dtypes. To retain the old behavior, exclude the relevant entries before the concat operation.\n",
      "  df = pd.concat([df, new_row], ignore_index=True)\n"
     ]
    },
    {
     "name": "stdout",
     "output_type": "stream",
     "text": [
      "Data for MSFT added to the DataFrame.\n"
     ]
    },
    {
     "data": {
      "text/html": [
       "<div>\n",
       "<style scoped>\n",
       "    .dataframe tbody tr th:only-of-type {\n",
       "        vertical-align: middle;\n",
       "    }\n",
       "\n",
       "    .dataframe tbody tr th {\n",
       "        vertical-align: top;\n",
       "    }\n",
       "\n",
       "    .dataframe thead th {\n",
       "        text-align: right;\n",
       "    }\n",
       "</style>\n",
       "<table border=\"1\" class=\"dataframe\">\n",
       "  <thead>\n",
       "    <tr style=\"text-align: right;\">\n",
       "      <th></th>\n",
       "      <th>longName</th>\n",
       "      <th>industry</th>\n",
       "      <th>country</th>\n",
       "      <th>state</th>\n",
       "      <th>fullTimeEmployees</th>\n",
       "      <th>marketCap</th>\n",
       "      <th>exchange</th>\n",
       "      <th>totalRevenue</th>\n",
       "      <th>heldPercentInsiders</th>\n",
       "    </tr>\n",
       "  </thead>\n",
       "  <tbody>\n",
       "    <tr>\n",
       "      <th>0</th>\n",
       "      <td>Microsoft Corporation</td>\n",
       "      <td>Software - Infrastructure</td>\n",
       "      <td>United States</td>\n",
       "      <td>WA</td>\n",
       "      <td>221000</td>\n",
       "      <td>3085564641280</td>\n",
       "      <td>NMS</td>\n",
       "      <td>227583000576</td>\n",
       "      <td>0.00056</td>\n",
       "    </tr>\n",
       "  </tbody>\n",
       "</table>\n",
       "</div>"
      ],
      "text/plain": [
       "                longName                   industry        country state  \\\n",
       "0  Microsoft Corporation  Software - Infrastructure  United States    WA   \n",
       "\n",
       "  fullTimeEmployees      marketCap exchange  totalRevenue  heldPercentInsiders  \n",
       "0            221000  3085564641280      NMS  227583000576              0.00056  "
      ]
     },
     "execution_count": 1,
     "metadata": {},
     "output_type": "execute_result"
    }
   ],
   "source": [
    "import yfinance as yf\n",
    "import requests\n",
    "import pandas as pd\n",
    "\n",
    "requests.packages.urllib3.disable_warnings()\n",
    "\n",
    "session = requests.Session()\n",
    "session.verify = False\n",
    "\n",
    "## need to create user input but after the function because want to add else if logic to it that needs function results ##\n",
    "\n",
    "def find_company(symbol_input):\n",
    "    symbol_input = yf.Ticker(symbol_input, session=session)\n",
    "\n",
    "    info_keys = ['longName', 'industry', 'country', 'state', 'fullTimeEmployees', 'marketCap', 'exchange', 'totalRevenue', 'heldPercentInsiders']\n",
    "\n",
    "    info = {}\n",
    "    for key in info_keys:\n",
    "        info[key.replace(\" \", \"\")] = symbol_input.info.get(key, None)\n",
    "\n",
    "    return info\n",
    "\n",
    "# Creating columns and empty df (will then populate later with results from above function and below input):\n",
    "column_names = ['longName', 'industry', 'country', 'state', 'fullTimeEmployees', 'marketCap', 'exchange', 'totalRevenue', 'heldPercentInsiders']\n",
    "df = pd.DataFrame(columns=column_names)\n",
    "\n",
    "# asking for user input and then looping through to ask for additional company names & giving option to end\n",
    "# - ask the girls if they prefer end or stop to break\n",
    "while True:\n",
    "    symbol_input = input(\"Enter company symbol (type 'end' to stop): \").upper()\n",
    "\n",
    "    # using END in caps as have used .upper() hopefully managing dumb user input\n",
    "    if symbol_input == 'END':\n",
    "        break\n",
    "\n",
    "    # making an if clause to check for company name in table to avoid duplicates\n",
    "    if symbol_input in df['longName'].values:\n",
    "        print(f\"Data for {symbol_input} is already in the DataFrame. Skipping...\")\n",
    "        continue\n",
    "\n",
    "    # Calling find_company() function with above now made user input (calling this result output info as will use info to put result into df.)\n",
    "    info = find_company(symbol_input)\n",
    "\n",
    "    # If info found for company symbol concatente into the df (not append coz it's crap here)\n",
    "    if info:\n",
    "        new_row = pd.DataFrame([info], columns=column_names)\n",
    "        df = pd.concat([df, new_row], ignore_index=True)\n",
    "        print(f\"Data for {symbol_input} added to the DataFrame.\")\n",
    "\n",
    "# creating a csv and saving dataframe into this.\n",
    "# ??? - do we need to have it saved as something diff each time? As when cell re-run csv will be erased and remade?? - ask girls\n",
    "df.to_csv('company_data.csv', index=False)\n",
    "\n",
    "# Displaying the final DataFrame to see what it looks like / give a preview w/o need for a csv\n",
    "df.head()"
   ]
  }
 ],
 "metadata": {
  "kernelspec": {
   "display_name": "Python 3",
   "language": "python",
   "name": "python3"
  },
  "language_info": {
   "codemirror_mode": {
    "name": "ipython",
    "version": 3
   },
   "file_extension": ".py",
   "mimetype": "text/x-python",
   "name": "python",
   "nbconvert_exporter": "python",
   "pygments_lexer": "ipython3",
   "version": "3.12.1"
  }
 },
 "nbformat": 4,
 "nbformat_minor": 2
}
